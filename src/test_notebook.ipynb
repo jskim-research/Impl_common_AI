{
 "cells": [
  {
   "cell_type": "code",
   "execution_count": 1,
   "outputs": [],
   "source": [
    "import os\n",
    "import cv2\n",
    "import numpy as np\n",
    "import tensorflow as tf\n",
    "import matplotlib.pyplot as plt\n",
    "import importlib\n",
    "import datasets\n",
    "import callbacks\n",
    "import util\n",
    "import profiler\n",
    "from sklearn.model_selection import StratifiedShuffleSplit\n",
    "from models import AlexNet"
   ],
   "metadata": {
    "collapsed": false,
    "pycharm": {
     "name": "#%%\n"
    }
   }
  },
  {
   "cell_type": "code",
   "execution_count": 2,
   "outputs": [],
   "source": [
    "train_dataset, train_num = datasets.dogs_cats(init=False, training=True)"
   ],
   "metadata": {
    "collapsed": false,
    "pycharm": {
     "name": "#%%\n"
    }
   }
  },
  {
   "cell_type": "code",
   "execution_count": 3,
   "outputs": [],
   "source": [
    "train_dataset = train_dataset.shuffle(train_num)"
   ],
   "metadata": {
    "collapsed": false,
    "pycharm": {
     "name": "#%%\n"
    }
   }
  },
  {
   "cell_type": "code",
   "execution_count": 67,
   "outputs": [],
   "source": [
    "valid_num = int(train_num * 0.3)\n",
    "train_data = train_dataset.skip(valid_num).shuffle(train_num - valid_num).batch(32).prefetch(1)\n",
    "valid_data = train_dataset.take(valid_num).shuffle(valid_num).batch(32).prefetch(1)"
   ],
   "metadata": {
    "collapsed": false,
    "pycharm": {
     "name": "#%%\n"
    }
   }
  },
  {
   "cell_type": "code",
   "execution_count": 68,
   "outputs": [
    {
     "name": "stdout",
     "output_type": "stream",
     "text": [
      "Epoch 1/2\n",
      "547/547 - 25s - loss: 435.0317 - sparse_categorical_accuracy: 0.5012 - val_loss: 6.9530 - val_sparse_categorical_accuracy: 0.5019\n",
      "Epoch 2/2\n",
      "547/547 - 21s - loss: 1.0842 - sparse_categorical_accuracy: 0.4997 - val_loss: 0.6957 - val_sparse_categorical_accuracy: 0.5013\n"
     ]
    },
    {
     "data": {
      "text/plain": "<keras.callbacks.History at 0x1e38fe49d60>"
     },
     "execution_count": 68,
     "metadata": {},
     "output_type": "execute_result"
    }
   ],
   "source": [
    "importlib.reload(AlexNet)\n",
    "model = AlexNet.AlexNet2()\n",
    "\n",
    "input_test = tf.keras.Input(shape=(112,112,3))\n",
    "model(input_test)\n",
    "model.fit(train_data, validation_data=valid_data, epochs=2, verbose=2,\n",
    "         callbacks=[callbacks.GetTensorboardCallback(\"../tensor_board/\" + \"layer_norm\")])"
   ],
   "metadata": {
    "collapsed": false,
    "pycharm": {
     "name": "#%%\n"
    }
   }
  },
  {
   "cell_type": "code",
   "execution_count": 5,
   "outputs": [],
   "source": [
    "profiler.profile_run(\"test()\", \"../profile_data/test3.prof\")"
   ],
   "metadata": {
    "collapsed": false,
    "pycharm": {
     "name": "#%%\n"
    }
   }
  },
  {
   "cell_type": "code",
   "execution_count": 6,
   "outputs": [],
   "source": [
    "a = tf.random.normal((2500, 112, 112, 3))\n",
    "b = tf.zeros(2500,)"
   ],
   "metadata": {
    "collapsed": false,
    "pycharm": {
     "name": "#%%\n"
    }
   }
  },
  {
   "cell_type": "code",
   "execution_count": 13,
   "outputs": [],
   "source": [
    "def test():\n",
    "    for x, y in dataset:\n",
    "        pass"
   ],
   "metadata": {
    "collapsed": false,
    "pycharm": {
     "name": "#%%\n"
    }
   }
  },
  {
   "cell_type": "code",
   "execution_count": 14,
   "outputs": [],
   "source": [
    "profiler.profile_run(\"test()\", \"../profile_data/test3.prof\")"
   ],
   "metadata": {
    "collapsed": false,
    "pycharm": {
     "name": "#%%\n"
    }
   }
  },
  {
   "cell_type": "code",
   "execution_count": 7,
   "outputs": [
    {
     "name": "stdout",
     "output_type": "stream",
     "text": [
      "219/219 - 8s - loss: 0.0029 - sparse_categorical_accuracy: 1.0000 - val_loss: 0.0000e+00 - val_sparse_categorical_accuracy: 1.0000 - 8s/epoch - 38ms/step\n"
     ]
    }
   ],
   "source": [
    "profiler.profile_run(\"model.fit(a, b, validation_split=0.3, epochs=1, verbose=2, batch_size=8,\\\n",
    "         callbacks=[callbacks.GetTensorboardCallback('../tensor_board/' + 'layer_norm')])\", \"../profile_data/test2.prof\")"
   ],
   "metadata": {
    "collapsed": false,
    "pycharm": {
     "name": "#%%\n"
    }
   }
  },
  {
   "cell_type": "code",
   "execution_count": 16,
   "outputs": [
    {
     "name": "stdout",
     "output_type": "stream",
     "text": [
      "157/157 - 173s - loss: 9351531.0000 - sparse_categorical_accuracy: 0.5160 - val_loss: 102.2935 - val_sparse_categorical_accuracy: 0.5000 - 173s/epoch - 1s/step\n"
     ]
    }
   ],
   "source": [
    "profiler.profile_run(\"model.fit(train_dataset, validation_data=valid_dataset, epochs=1, verbose=2,\\\n",
    "         callbacks=[callbacks.GetTensorboardCallback('../tensor_board/' + 'layer_norm')])\", \"../profile_data/test.prof\")"
   ],
   "metadata": {
    "collapsed": false,
    "pycharm": {
     "name": "#%%\n"
    }
   }
  },
  {
   "cell_type": "code",
   "execution_count": 5,
   "outputs": [
    {
     "name": "stdout",
     "output_type": "stream",
     "text": [
      "157/157 - 228s - loss: 110.6713 - sparse_categorical_accuracy: 0.5080 - val_loss: 1.1275 - val_sparse_categorical_accuracy: 0.5120 - 228s/epoch - 1s/step\n"
     ]
    },
    {
     "data": {
      "text/plain": "<keras.callbacks.History at 0x14a084bfb88>"
     },
     "execution_count": 5,
     "metadata": {},
     "output_type": "execute_result"
    }
   ],
   "source": [
    "importlib.reload(AlexNet)\n",
    "model = AlexNet.AlexNet2()\n",
    "model.fit(train_dataset, validation_data=valid_dataset, epochs=1, verbose=2,\n",
    "         callbacks=[callbacks.GetTensorboardCallback(\"../tensor_board/\" + \"layer_norm\")])\n",
    "# model.fit(a, b, validation_data=(c, d), epochs=100, batch_size=1)"
   ],
   "metadata": {
    "collapsed": false,
    "pycharm": {
     "name": "#%%\n"
    }
   }
  },
  {
   "cell_type": "markdown",
   "source": [],
   "metadata": {
    "collapsed": false,
    "pycharm": {
     "name": "#%% md\n"
    }
   }
  },
  {
   "cell_type": "code",
   "execution_count": 7,
   "outputs": [
    {
     "name": "stdout",
     "output_type": "stream",
     "text": [
      "tf.Tensor([[0. 1.]], shape=(1, 2), dtype=float32)\n",
      "(112, 112, 3)\n",
      "tf.Tensor([[0. 1.]], shape=(1, 2), dtype=float32)\n",
      "(112, 112, 3)\n",
      "tf.Tensor([[0. 1.]], shape=(1, 2), dtype=float32)\n",
      "(112, 112, 3)\n",
      "tf.Tensor([[0. 1.]], shape=(1, 2), dtype=float32)\n",
      "(112, 112, 3)\n",
      "tf.Tensor([[0. 1.]], shape=(1, 2), dtype=float32)\n",
      "(112, 112, 3)\n",
      "tf.Tensor([[0. 1.]], shape=(1, 2), dtype=float32)\n",
      "(112, 112, 3)\n",
      "tf.Tensor([[0. 1.]], shape=(1, 2), dtype=float32)\n",
      "(112, 112, 3)\n",
      "tf.Tensor([[0. 1.]], shape=(1, 2), dtype=float32)\n",
      "(112, 112, 3)\n"
     ]
    },
    {
     "ename": "KeyboardInterrupt",
     "evalue": "",
     "output_type": "error",
     "traceback": [
      "\u001B[1;31m---------------------------------------------------------------------------\u001B[0m",
      "\u001B[1;31mKeyboardInterrupt\u001B[0m                         Traceback (most recent call last)",
      "\u001B[1;32m~\\AppData\\Local\\Temp\\ipykernel_28592\\254962943.py\u001B[0m in \u001B[0;36m<module>\u001B[1;34m\u001B[0m\n\u001B[0;32m      4\u001B[0m     \u001B[0mprint\u001B[0m\u001B[1;33m(\u001B[0m\u001B[0mx\u001B[0m\u001B[1;33m.\u001B[0m\u001B[0mshape\u001B[0m\u001B[1;33m)\u001B[0m\u001B[1;33m\u001B[0m\u001B[1;33m\u001B[0m\u001B[0m\n\u001B[0;32m      5\u001B[0m     \u001B[0mcv2\u001B[0m\u001B[1;33m.\u001B[0m\u001B[0mimshow\u001B[0m\u001B[1;33m(\u001B[0m\u001B[1;34m\"img\"\u001B[0m\u001B[1;33m,\u001B[0m \u001B[0mx\u001B[0m\u001B[1;33m)\u001B[0m\u001B[1;33m\u001B[0m\u001B[1;33m\u001B[0m\u001B[0m\n\u001B[1;32m----> 6\u001B[1;33m     \u001B[0mcv2\u001B[0m\u001B[1;33m.\u001B[0m\u001B[0mwaitKey\u001B[0m\u001B[1;33m(\u001B[0m\u001B[1;36m0\u001B[0m\u001B[1;33m)\u001B[0m\u001B[1;33m\u001B[0m\u001B[1;33m\u001B[0m\u001B[0m\n\u001B[0m\u001B[0;32m      7\u001B[0m \u001B[1;33m\u001B[0m\u001B[0m\n",
      "\u001B[1;31mKeyboardInterrupt\u001B[0m: "
     ]
    }
   ],
   "source": [
    "\n",
    "for x, y in test_dataset.batch(1):\n",
    "    print(model(x))\n",
    "    x = x[0, :, :, :].numpy()\n",
    "    print(x.shape)\n",
    "    cv2.imshow(\"img\", x)\n",
    "    cv2.waitKey(0)\n"
   ],
   "metadata": {
    "collapsed": false,
    "pycharm": {
     "name": "#%%\n"
    }
   }
  },
  {
   "cell_type": "code",
   "execution_count": 9,
   "outputs": [
    {
     "ename": "AttributeError",
     "evalue": "module 'util' has no attribute 'save_model'",
     "output_type": "error",
     "traceback": [
      "\u001B[1;31m---------------------------------------------------------------------------\u001B[0m",
      "\u001B[1;31mAttributeError\u001B[0m                            Traceback (most recent call last)",
      "\u001B[1;32m~\\AppData\\Local\\Temp\\ipykernel_19892\\3892538913.py\u001B[0m in \u001B[0;36m<module>\u001B[1;34m\u001B[0m\n\u001B[1;32m----> 1\u001B[1;33m \u001B[0mutil\u001B[0m\u001B[1;33m.\u001B[0m\u001B[0msave_model\u001B[0m\u001B[1;33m(\u001B[0m\u001B[0mmodel\u001B[0m\u001B[1;33m,\u001B[0m \u001B[1;34m\"../checkpoints/test_model.h5\"\u001B[0m\u001B[1;33m)\u001B[0m\u001B[1;33m\u001B[0m\u001B[1;33m\u001B[0m\u001B[0m\n\u001B[0m",
      "\u001B[1;31mAttributeError\u001B[0m: module 'util' has no attribute 'save_model'"
     ]
    }
   ],
   "source": [
    "util.save_model(model, \"../checkpoints/test_model.h5\")"
   ],
   "metadata": {
    "collapsed": false,
    "pycharm": {
     "name": "#%%\n"
    }
   }
  },
  {
   "cell_type": "code",
   "execution_count": null,
   "outputs": [],
   "source": [],
   "metadata": {
    "collapsed": false,
    "pycharm": {
     "name": "#%%\n"
    }
   }
  }
 ],
 "metadata": {
  "kernelspec": {
   "display_name": "Python 3 (ipykernel)",
   "language": "python",
   "name": "python3"
  },
  "language_info": {
   "codemirror_mode": {
    "name": "ipython",
    "version": 3
   },
   "file_extension": ".py",
   "mimetype": "text/x-python",
   "name": "python",
   "nbconvert_exporter": "python",
   "pygments_lexer": "ipython3",
   "version": "3.7.11"
  }
 },
 "nbformat": 4,
 "nbformat_minor": 5
}