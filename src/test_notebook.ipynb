{
 "cells": [
  {
   "cell_type": "code",
   "execution_count": 1,
   "outputs": [],
   "source": [
    "import os\n",
    "import cv2\n",
    "import numpy as np\n",
    "import tensorflow as tf\n",
    "import matplotlib.pyplot as plt\n",
    "import importlib\n",
    "import datasets\n",
    "import callbacks\n",
    "import util\n",
    "import profiler\n",
    "from sklearn.model_selection import StratifiedShuffleSplit\n",
    "from models import AlexNet"
   ],
   "metadata": {
    "collapsed": false,
    "pycharm": {
     "name": "#%%\n"
    }
   }
  },
  {
   "cell_type": "code",
   "execution_count": 2,
   "outputs": [],
   "source": [
    "train_dataset, train_num = datasets.dogs_cats(init=False, training=True)"
   ],
   "metadata": {
    "collapsed": false,
    "pycharm": {
     "name": "#%%\n"
    }
   }
  },
  {
   "cell_type": "code",
   "execution_count": 3,
   "outputs": [],
   "source": [
    "train_dataset = train_dataset.shuffle(train_num)"
   ],
   "metadata": {
    "collapsed": false,
    "pycharm": {
     "name": "#%%\n"
    }
   }
  },
  {
   "cell_type": "code",
   "execution_count": 6,
   "outputs": [],
   "source": [
    "valid_num = int(train_num * 0.3)\n",
    "train_data = train_dataset.skip(valid_num).shuffle(train_num - valid_num).batch(8).prefetch(1)\n",
    "valid_data = train_dataset.take(valid_num).shuffle(valid_num).batch(8).prefetch(1)"
   ],
   "metadata": {
    "collapsed": false,
    "pycharm": {
     "name": "#%%\n"
    }
   }
  },
  {
   "cell_type": "code",
   "execution_count": null,
   "outputs": [
    {
     "name": "stdout",
     "output_type": "stream",
     "text": [
      "Epoch 1/1000\n",
      "2188/2188 - 53s - loss: 430.4554 - sparse_categorical_accuracy: 0.5006 - val_loss: 38.6650 - val_sparse_categorical_accuracy: 0.5008 - 53s/epoch - 24ms/step\n",
      "Epoch 2/1000\n",
      "2188/2188 - 52s - loss: 3.3769 - sparse_categorical_accuracy: 0.5005 - val_loss: 0.7002 - val_sparse_categorical_accuracy: 0.4972 - 52s/epoch - 24ms/step\n",
      "Epoch 3/1000\n",
      "2188/2188 - 53s - loss: 1.2018 - sparse_categorical_accuracy: 0.4985 - val_loss: 0.8438 - val_sparse_categorical_accuracy: 0.5011 - 53s/epoch - 24ms/step\n",
      "Epoch 4/1000\n",
      "2188/2188 - 53s - loss: 1.1579 - sparse_categorical_accuracy: 0.5008 - val_loss: 1.2477 - val_sparse_categorical_accuracy: 0.5020 - 53s/epoch - 24ms/step\n",
      "Epoch 5/1000\n",
      "2188/2188 - 54s - loss: 17.4294 - sparse_categorical_accuracy: 0.4953 - val_loss: 0.7902 - val_sparse_categorical_accuracy: 0.5039 - 54s/epoch - 25ms/step\n",
      "Epoch 6/1000\n",
      "2188/2188 - 55s - loss: 0.7661 - sparse_categorical_accuracy: 0.5014 - val_loss: 0.8006 - val_sparse_categorical_accuracy: 0.4995 - 55s/epoch - 25ms/step\n",
      "Epoch 7/1000\n",
      "2188/2188 - 56s - loss: 0.9761 - sparse_categorical_accuracy: 0.4961 - val_loss: 3.6898 - val_sparse_categorical_accuracy: 0.4989 - 56s/epoch - 26ms/step\n",
      "Epoch 8/1000\n",
      "2188/2188 - 56s - loss: 0.7620 - sparse_categorical_accuracy: 0.4990 - val_loss: 0.6969 - val_sparse_categorical_accuracy: 0.4999 - 56s/epoch - 26ms/step\n",
      "Epoch 9/1000\n",
      "2188/2188 - 57s - loss: 2.6323 - sparse_categorical_accuracy: 0.4970 - val_loss: 0.6959 - val_sparse_categorical_accuracy: 0.4996 - 57s/epoch - 26ms/step\n",
      "Epoch 10/1000\n"
     ]
    }
   ],
   "source": [
    "importlib.reload(AlexNet)\n",
    "model = AlexNet.AlexNet2()\n",
    "\n",
    "input_test = tf.keras.Input(shape=(112,112,3))\n",
    "model(input_test)\n",
    "model.fit(train_data, validation_data=valid_data, epochs=1000, verbose=2,\n",
    "         callbacks=[callbacks.GetTensorboardCallback(\"../tensor_board/\" + \"layer_norm\")])"
   ],
   "metadata": {
    "collapsed": false,
    "pycharm": {
     "name": "#%%\n",
     "is_executing": true
    }
   }
  },
  {
   "cell_type": "code",
   "execution_count": null,
   "outputs": [],
   "source": [
    "profiler.profile_run(\"test()\", \"../profile_data/test3.prof\")"
   ],
   "metadata": {
    "collapsed": false,
    "pycharm": {
     "name": "#%%\n"
    }
   }
  },
  {
   "cell_type": "code",
   "execution_count": null,
   "outputs": [],
   "source": [],
   "metadata": {
    "collapsed": false,
    "pycharm": {
     "name": "#%%\n"
    }
   }
  }
 ],
 "metadata": {
  "kernelspec": {
   "display_name": "Python 3 (ipykernel)",
   "language": "python",
   "name": "python3"
  },
  "language_info": {
   "codemirror_mode": {
    "name": "ipython",
    "version": 3
   },
   "file_extension": ".py",
   "mimetype": "text/x-python",
   "name": "python",
   "nbconvert_exporter": "python",
   "pygments_lexer": "ipython3",
   "version": "3.7.11"
  }
 },
 "nbformat": 4,
 "nbformat_minor": 5
}